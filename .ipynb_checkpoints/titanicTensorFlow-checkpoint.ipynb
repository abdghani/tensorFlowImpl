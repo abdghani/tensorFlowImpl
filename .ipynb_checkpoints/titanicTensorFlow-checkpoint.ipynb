{
 "cells": [
  {
   "cell_type": "code",
   "execution_count": 1,
   "metadata": {
    "collapsed": true
   },
   "outputs": [],
   "source": [
    "import tensorflow as tf\n",
    "import numpy as np\n",
    "import matplotlib.pyplot as plt\n",
    "import pandas as pd"
   ]
  },
  {
   "cell_type": "code",
   "execution_count": 2,
   "metadata": {
    "collapsed": true
   },
   "outputs": [],
   "source": [
    "learning_rate = 0.001\n",
    "n_epochs = 100"
   ]
  },
  {
   "cell_type": "code",
   "execution_count": 3,
   "metadata": {
    "collapsed": false
   },
   "outputs": [],
   "source": [
    "train = pd.read_csv('titanic/train.csv');\n",
    "test = pd.read_csv('titanic/test.csv');\n",
    "drop_cols_train = ['PassengerId','Name','Survived','Cabin','Embarked','Sex','Ticket']\n",
    "drop_cols_test = ['PassengerId','Name','Cabin','Embarked','Sex','Ticket']\n",
    "\n",
    "pre_train = train.drop(drop_cols_train,axis=1)\n",
    "train_x = pd.concat([ \n",
    "                        pre_train,\n",
    "                        pd.get_dummies(train['Embarked']),\n",
    "                        pd.get_dummies(train['Sex'])\n",
    "                    ],axis=1)\n",
    "train_y = pd.DataFrame({'Survived':train['Survived']});\n",
    "\n",
    "testPid = test['PassengerId'];\n",
    "pre_test= test.drop(drop_cols_test,axis=1)\n",
    "test_x = pd.concat([ \n",
    "                        pre_test,\n",
    "                        pd.get_dummies(test['Embarked']),\n",
    "                        pd.get_dummies(test['Sex'])\n",
    "                    ],axis=1)\n",
    "\n",
    "for col in train_x.columns:\n",
    "    if np.any(pd.isnull(train_x[col])): \n",
    "        train_x[col].fillna(np.median(train_x[np.logical_not(pd.isnull(train_x[col]))][col]),inplace=True)\n",
    "\n",
    "for col in test_x.columns:\n",
    "    if np.any(pd.isnull(test_x[col])): \n",
    "        test_x[col].fillna(np.median(test_x[np.logical_not(pd.isnull(test_x[col]))][col]),inplace=True)\n"
   ]
  },
  {
   "cell_type": "code",
   "execution_count": 4,
   "metadata": {
    "collapsed": false
   },
   "outputs": [],
   "source": [
    "train_x = train_x.as_matrix(columns=None)\n",
    "test_x = test_x.as_matrix(columns=None)\n",
    "train_y = train_y.as_matrix(columns=None)"
   ]
  },
  {
   "cell_type": "code",
   "execution_count": 74,
   "metadata": {
    "collapsed": false
   },
   "outputs": [
    {
     "name": "stdout",
     "output_type": "stream",
     "text": [
      "0.885979\n",
      "0.885979\n",
      "0.885979\n",
      "0.885979\n",
      "0.885979\n",
      "0.885979\n",
      "0.885979\n",
      "0.885979\n",
      "0.885979\n",
      "0.885979\n"
     ]
    }
   ],
   "source": [
    "with tf.Graph().as_default() as graph:\n",
    "    X = tf.placeholder(dtype=tf.float32,shape=[None,10])\n",
    "    Y = tf.placeholder(dtype=tf.float32, shape=[None, 1])\n",
    "\n",
    "    W = tf.Variable(tf.random_normal([10,1]))\n",
    "    b = tf.Variable(tf.random_normal([1]))\n",
    "    \n",
    "    out = tf.nn.softmax(tf.add(tf.matmul(X, W), b))\n",
    "    loss = tf.sqrt(tf.sqrt(tf.reduce_mean(tf.square(train_y - out))))\n",
    "    opt = tf.train.GradientDescentOptimizer(learning_rate).minimize(loss)\n",
    "    \n",
    "    with tf.Session() as sess:\n",
    "        sess.run(tf.global_variables_initializer())\n",
    "        sess.run(tf.local_variables_initializer())\n",
    "        for i in range(n_epochs):\n",
    "            _,sdf, pred = sess.run([opt, loss, out], feed_dict={X:train_x, Y:train_y })\n",
    "            if i%10 == 0:\n",
    "                print(sdf)"
   ]
  },
  {
   "cell_type": "code",
   "execution_count": null,
   "metadata": {
    "collapsed": true
   },
   "outputs": [],
   "source": []
  }
 ],
 "metadata": {
  "kernelspec": {
   "display_name": "Python 3",
   "language": "python",
   "name": "python3"
  },
  "language_info": {
   "codemirror_mode": {
    "name": "ipython",
    "version": 3
   },
   "file_extension": ".py",
   "mimetype": "text/x-python",
   "name": "python",
   "nbconvert_exporter": "python",
   "pygments_lexer": "ipython3",
   "version": "3.6.0"
  }
 },
 "nbformat": 4,
 "nbformat_minor": 2
}
