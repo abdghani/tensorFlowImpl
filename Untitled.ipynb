{
 "cells": [
  {
   "cell_type": "code",
   "execution_count": 1,
   "metadata": {
    "collapsed": true
   },
   "outputs": [],
   "source": [
    "import tensorflow as tf\n",
    "import numpy as np\n",
    "import pandas as pd"
   ]
  },
  {
   "cell_type": "code",
   "execution_count": 2,
   "metadata": {
    "collapsed": false
   },
   "outputs": [],
   "source": [
    "#dataset\n",
    "train = pd.read_csv('titanic/train.csv');\n",
    "test = pd.read_csv('titanic/test.csv');\n",
    "drop_cols_train = ['PassengerId','Name','Survived','Cabin','Embarked','Sex','Ticket']\n",
    "drop_cols_test = ['PassengerId','Name','Cabin','Embarked','Sex','Ticket']\n",
    "\n",
    "pre_train = train.drop(drop_cols_train,axis=1)\n",
    "train_x = pd.concat([ \n",
    "                        pre_train,\n",
    "                        pd.get_dummies(train['Embarked']),\n",
    "                        pd.get_dummies(train['Sex'])\n",
    "                    ],axis=1)\n",
    "train_y = pd.DataFrame({'Survived':train['Survived']});\n",
    "\n",
    "testPid = test['PassengerId'];\n",
    "pre_test= test.drop(drop_cols_test,axis=1)\n",
    "test_x = pd.concat([ \n",
    "                        pre_test,\n",
    "                        pd.get_dummies(test['Embarked']),\n",
    "                        pd.get_dummies(test['Sex'])\n",
    "                    ],axis=1)\n",
    "\n",
    "for col in train_x.columns:\n",
    "    if np.any(pd.isnull(train_x[col])): \n",
    "        train_x[col].fillna(np.median(train_x[np.logical_not(pd.isnull(train_x[col]))][col]),inplace=True)\n",
    "\n",
    "for col in test_x.columns:\n",
    "    if np.any(pd.isnull(test_x[col])): \n",
    "        test_x[col].fillna(np.median(test_x[np.logical_not(pd.isnull(test_x[col]))][col]),inplace=True)\n",
    "\n",
    "train_x = train_x.as_matrix(columns=None)\n",
    "test_x = test_x.as_matrix(columns=None)\n",
    "train_y = train_y.as_matrix(columns=None)"
   ]
  },
  {
   "cell_type": "code",
   "execution_count": 3,
   "metadata": {
    "collapsed": false
   },
   "outputs": [],
   "source": [
    "#hyper parameters\n",
    "learning_rate = 0.1\n",
    "n_epochs = 100\n",
    "n_features = 10\n",
    "n_hidden_1 = 256\n",
    "n_hidden_2 = 256\n",
    "\n",
    "x = tf.placeholder(tf.float32,([None,10]))\n",
    "y = tf.placeholder(tf.float32,([None,1]))\n",
    "\n",
    "l1 = { 'w':tf.Variable(tf.random_normal(mean=0.0, stddev=0.25, shape=[n_features,n_hidden_1])),'b':tf.Variable(tf.zeros([n_hidden_1]))}\n",
    "l2 = { 'w':tf.Variable(tf.random_normal(mean=0.0, stddev=0.25, shape=[n_hidden_1,n_hidden_2])),'b':tf.Variable(tf.zeros([n_hidden_2]))}\n",
    "out= { 'w':tf.Variable(tf.random_normal(mean=0.0, stddev=0.25, shape=[n_hidden_2,1])),'b':tf.Variable(tf.zeros([1]))}"
   ]
  },
  {
   "cell_type": "code",
   "execution_count": 4,
   "metadata": {
    "collapsed": false
   },
   "outputs": [],
   "source": [
    "def mlp(x,l1,l2,out):\n",
    "    layer1 = tf.nn.sigmoid(tf.add(tf.matmul(x,l1['w']),l1['b']))\n",
    "    layer2 = tf.nn.sigmoid(tf.add(tf.matmul(layer1,l2['w']),l2['b']))\n",
    "    output = tf.matmul(layer2,out['w'])+out['b']\n",
    "    return tf.nn.sigmoid(output)"
   ]
  },
  {
   "cell_type": "code",
   "execution_count": 5,
   "metadata": {
    "collapsed": false
   },
   "outputs": [],
   "source": [
    "yhat = mlp(x,l1,l2,out)\n",
    "cost = yhat-y\n",
    "optimizer = tf.train.GradientDescentOptimizer(learning_rate).minimize(cost)"
   ]
  },
  {
   "cell_type": "code",
   "execution_count": 6,
   "metadata": {
    "collapsed": false
   },
   "outputs": [
    {
     "name": "stdout",
     "output_type": "stream",
     "text": [
      "WARNING:tensorflow:From <ipython-input-6-f98503fd7e06>:2: initialize_all_variables (from tensorflow.python.ops.variables) is deprecated and will be removed after 2017-03-02.\n",
      "Instructions for updating:\n",
      "Use `tf.global_variables_initializer` instead.\n",
      "[[  6.46961416e-05]]\n",
      "[[  6.27997724e-06]]\n",
      "[[  3.33925573e-06]]\n",
      "[[  2.28789531e-06]]\n",
      "[[  1.74742559e-06]]\n"
     ]
    }
   ],
   "source": [
    "with tf.Session() as sess:\n",
    "    sess.run(tf.initialize_all_variables())\n",
    "    pred = []\n",
    "    for i in range(n_epochs-50):\n",
    "        for (X,Y) in zip(train_x,train_y):\n",
    "            _,c, p = sess.run([optimizer,cost, yhat],feed_dict={x:X.reshape(1,-1),y:Y.reshape(1,-1)})\n",
    "        if(i%10 == 0):\n",
    "            print(c)\n",
    "    for X in test_x:\n",
    "        p = sess.run([yhat],feed_dict={x:X.reshape(1,-1)})\n",
    "        pred.extend(p)"
   ]
  },
  {
   "cell_type": "code",
   "execution_count": 114,
   "metadata": {
    "collapsed": false
   },
   "outputs": [
    {
     "data": {
      "text/plain": [
       "array([False, False, False, False, False, False, False, False, False,\n",
       "       False, False, False, False, False, False, False, False, False,\n",
       "       False, False, False, False, False, False, False, False, False,\n",
       "       False, False, False, False, False, False, False, False, False,\n",
       "       False, False, False, False, False, False, False, False, False,\n",
       "       False, False, False, False, False, False, False, False, False,\n",
       "       False, False, False, False, False, False, False, False, False,\n",
       "       False, False, False, False, False, False, False, False, False,\n",
       "       False, False, False, False, False, False, False, False, False,\n",
       "       False, False, False, False, False, False, False, False, False,\n",
       "       False, False, False, False, False, False, False, False, False,\n",
       "       False, False, False, False, False, False, False, False, False,\n",
       "       False, False, False, False, False, False, False, False, False,\n",
       "       False, False, False, False, False, False, False, False, False,\n",
       "       False, False, False, False, False, False, False, False, False,\n",
       "       False, False, False, False, False, False, False, False, False,\n",
       "       False, False, False, False, False, False, False, False, False,\n",
       "       False, False, False, False, False, False, False, False, False,\n",
       "       False, False, False, False, False, False, False, False, False,\n",
       "       False, False, False, False, False, False, False, False, False,\n",
       "       False, False, False, False, False, False, False, False, False,\n",
       "       False, False, False, False, False, False, False, False, False,\n",
       "       False, False, False, False, False, False, False, False, False,\n",
       "       False, False, False, False, False, False, False, False, False,\n",
       "       False, False, False, False, False, False, False, False, False,\n",
       "       False, False, False, False, False, False, False, False, False,\n",
       "       False, False, False, False, False, False, False, False, False,\n",
       "       False, False, False, False, False, False, False, False, False,\n",
       "       False, False, False, False, False, False, False, False, False,\n",
       "       False, False, False, False, False, False, False, False, False,\n",
       "       False, False, False, False, False, False, False, False, False,\n",
       "       False, False, False, False, False, False, False, False, False,\n",
       "       False, False, False, False, False, False, False, False, False,\n",
       "       False, False, False, False, False, False, False, False, False,\n",
       "       False, False, False, False, False, False, False, False, False,\n",
       "       False, False, False, False, False, False, False, False, False,\n",
       "       False, False, False, False, False, False, False, False, False,\n",
       "       False, False, False, False, False, False, False, False, False,\n",
       "       False, False, False, False, False, False, False, False, False,\n",
       "       False, False, False, False, False, False, False, False, False,\n",
       "       False, False, False, False, False, False, False, False, False,\n",
       "       False, False, False, False, False, False, False, False, False,\n",
       "       False, False, False, False, False, False, False, False, False,\n",
       "       False, False, False, False, False, False, False, False, False,\n",
       "       False, False, False, False, False, False, False, False, False,\n",
       "       False, False, False, False, False, False, False, False, False,\n",
       "       False, False, False, False], dtype=bool)"
      ]
     },
     "execution_count": 114,
     "metadata": {},
     "output_type": "execute_result"
    }
   ],
   "source": [
    "np.array(pred).ravel()>0.5"
   ]
  },
  {
   "cell_type": "code",
   "execution_count": null,
   "metadata": {
    "collapsed": true
   },
   "outputs": [],
   "source": []
  }
 ],
 "metadata": {
  "kernelspec": {
   "display_name": "Python 3",
   "language": "python",
   "name": "python3"
  },
  "language_info": {
   "codemirror_mode": {
    "name": "ipython",
    "version": 3
   },
   "file_extension": ".py",
   "mimetype": "text/x-python",
   "name": "python",
   "nbconvert_exporter": "python",
   "pygments_lexer": "ipython3",
   "version": "3.6.0"
  }
 },
 "nbformat": 4,
 "nbformat_minor": 2
}
