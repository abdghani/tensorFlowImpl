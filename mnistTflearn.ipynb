{
 "cells": [
  {
   "cell_type": "code",
   "execution_count": 1,
   "metadata": {
    "collapsed": true
   },
   "outputs": [],
   "source": [
    "from __future__ import absolute_import, division, print_function\n",
    "import tflearn\n",
    "import tflearn.datasets.mnist as mnist"
   ]
  },
  {
   "cell_type": "code",
   "execution_count": 2,
   "metadata": {
    "collapsed": false
   },
   "outputs": [
    {
     "name": "stdout",
     "output_type": "stream",
     "text": [
      "Extracting mnist/train-images-idx3-ubyte.gz\n",
      "Extracting mnist/train-labels-idx1-ubyte.gz\n",
      "Extracting mnist/t10k-images-idx3-ubyte.gz\n",
      "Extracting mnist/t10k-labels-idx1-ubyte.gz\n"
     ]
    }
   ],
   "source": [
    "# MNIST Data\n",
    "X, Y, testX, testY = mnist.load_data(one_hot=True)\n",
    "\n",
    "# Model\n",
    "input_layer = tflearn.input_data(shape=[None, 784], name='input')\n",
    "dense1 = tflearn.fully_connected(input_layer, 128, name='dense1')\n",
    "dense2 = tflearn.fully_connected(dense1, 256, name='dense2')\n",
    "softmax = tflearn.fully_connected(dense2, 10, activation='softmax')\n",
    "regression = tflearn.regression(softmax, optimizer='adam',\n",
    "                                learning_rate=0.001,\n",
    "                                loss='categorical_crossentropy')"
   ]
  },
  {
   "cell_type": "code",
   "execution_count": 5,
   "metadata": {
    "collapsed": false
   },
   "outputs": [],
   "source": [
    "# Define classifier, with model checkpoint (autosave)\n",
    "model = tflearn.DNN(regression, checkpoint_path='model.tfl.ckpt')"
   ]
  },
  {
   "cell_type": "code",
   "execution_count": 6,
   "metadata": {
    "collapsed": false
   },
   "outputs": [
    {
     "data": {
      "text/plain": [
       "array([[ 0.,  0.,  0., ...,  0.,  0.,  0.],\n",
       "       [ 0.,  0.,  0., ...,  0.,  0.,  0.],\n",
       "       [ 0.,  0.,  0., ...,  0.,  0.,  0.],\n",
       "       ..., \n",
       "       [ 0.,  0.,  0., ...,  0.,  0.,  0.],\n",
       "       [ 0.,  0.,  0., ...,  0.,  0.,  0.],\n",
       "       [ 0.,  0.,  0., ...,  0.,  0.,  0.]], dtype=float32)"
      ]
     },
     "execution_count": 6,
     "metadata": {},
     "output_type": "execute_result"
    }
   ],
   "source": [
    "X"
   ]
  },
  {
   "cell_type": "code",
   "execution_count": 4,
   "metadata": {
    "collapsed": false
   },
   "outputs": [
    {
     "name": "stdout",
     "output_type": "stream",
     "text": [
      "Training Step: 1719  | total loss: \u001b[1m\u001b[32m0.36306\u001b[0m\u001b[0m | time: 6.150s\n",
      "| Adam | epoch: 002 | loss: 0.36306 - acc: 0.9055 -- iter: 54976/55000\n",
      "Training Step: 1720  | total loss: \u001b[1m\u001b[32m0.34570\u001b[0m\u001b[0m | time: 7.297s\n",
      "| Adam | epoch: 002 | loss: 0.34570 - acc: 0.9118 | val_loss: 0.29252 - val_acc: 0.9158 -- iter: 55000/55000\n",
      "--\n",
      "INFO:tensorflow:/Users/abdullahghani/Desktop/myfiles/jupyter/tensorflowBasics/model.tfl.ckpt-1720 is not in all_model_checkpoint_paths. Manually adding it.\n"
     ]
    }
   ],
   "source": [
    "# Train model, with model checkpoint every epoch and every 200 training steps.\n",
    "model.fit(X, Y, n_epoch=1,\n",
    "          validation_set=(testX, testY),\n",
    "          show_metric=True,\n",
    "          snapshot_epoch=True, # Snapshot (save & evaluate) model every epoch.\n",
    "          snapshot_step=500, # Snapshot (save & evalaute) model every 500 steps.\n",
    "          run_id='model_and_weights')\n",
    "\n",
    "# Manually save model\n",
    "model.save(\"model.tfl\")\n",
    "\n",
    "# Load a model\n",
    "model.load(\"model.tfl\")\n",
    "\n",
    "# Or Load a model from auto-generated checkpoint\n",
    "# >> model.load(\"model.tfl.ckpt-500\")\n",
    "\n",
    "# Resume training\n",
    "model.fit(X, Y, n_epoch=1,\n",
    "          validation_set=(testX, testY),\n",
    "          show_metric=True,\n",
    "          snapshot_epoch=True,\n",
    "          run_id='model_and_weights')"
   ]
  },
  {
   "cell_type": "code",
   "execution_count": null,
   "metadata": {
    "collapsed": true
   },
   "outputs": [],
   "source": []
  }
 ],
 "metadata": {
  "kernelspec": {
   "display_name": "Python 3",
   "language": "python",
   "name": "python3"
  },
  "language_info": {
   "codemirror_mode": {
    "name": "ipython",
    "version": 3
   },
   "file_extension": ".py",
   "mimetype": "text/x-python",
   "name": "python",
   "nbconvert_exporter": "python",
   "pygments_lexer": "ipython3",
   "version": "3.6.0"
  }
 },
 "nbformat": 4,
 "nbformat_minor": 2
}
